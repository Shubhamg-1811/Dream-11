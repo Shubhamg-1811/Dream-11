{
 "cells": [
  {
   "cell_type": "code",
   "execution_count": 15,
   "metadata": {},
   "outputs": [],
   "source": [
    "import pandas as pd"
   ]
  },
  {
   "cell_type": "code",
   "execution_count": 16,
   "metadata": {},
   "outputs": [],
   "source": [
    "def calculate_fantasy_points(player: pd.core.series.Series):\n",
    "    points = 0\n",
    "\n",
    "    # Batting Points\n",
    "    points += player['runs_scored']  # 1 point per run\n",
    "    points += player['no_of_fours']  # 1 point per boundary\n",
    "    points += player['no_of_sixes'] * 2  # 2 points per six\n",
    "\n",
    "    # Bonus for milestones\n",
    "    if player['runs_scored'] >= 100:\n",
    "        points += 16 \n",
    "    elif player['runs_scored'] >= 50:\n",
    "        points += 8 \n",
    "    elif player['runs_scored'] >= 30 and player['match_type'] in ['T20', 'IT20']:\n",
    "        points += 4\n",
    "\n",
    "    # Calculate duck penalty (Ask Harsh and Sohit)\n",
    "    if player['match_type'] not in ['Test', 'MDM']: \n",
    "        if player['runs_scored'] == 0 and player['out'] == 'out':\n",
    "            if player['match_type'] in ['IT20', 'ODM', 'ODI', 'T20']:\n",
    "                points -= 2  # Duck penalty for ODI and T20\n",
    "    # ignoring duck penalty in test matches!\n",
    "\n",
    "    # Strike Rate Bonus/Penalty (applicable in limited-overs matches)\n",
    "    if player['match_type'] in ['IT20', 'ODM', 'ODI', 'T20'] and player['balls_faced'] >= 10:\n",
    "        strike_rate = (player['runs_scored'] / player['balls_faced']) * 100\n",
    "        if player['match_type'] in ['T20', 'IT20']:\n",
    "            if strike_rate > 170:\n",
    "                points += 6\n",
    "            elif 150 < strike_rate <= 170:\n",
    "                points += 4\n",
    "            elif 130 < strike_rate <= 150:\n",
    "                points += 2\n",
    "            elif 60 <= strike_rate < 70:\n",
    "                points -= 2\n",
    "            elif 50 <= strike_rate < 60:\n",
    "                points -= 4\n",
    "            elif strike_rate < 50:\n",
    "                points -= 6\n",
    "        elif player['match_type'] in ['ODI', 'ODM']:\n",
    "            if strike_rate > 140:\n",
    "                points += 6\n",
    "            elif 120 < strike_rate <= 140:\n",
    "                points += 4\n",
    "            elif 100 < strike_rate <= 120:\n",
    "                points += 2\n",
    "            elif 40 <= strike_rate < 50:\n",
    "                points -= 2\n",
    "            elif 30 <= strike_rate < 40:\n",
    "                points -= 4\n",
    "            elif strike_rate < 30:\n",
    "                points -= 6\n",
    "\n",
    "    # Bowling Points\n",
    "    points += player['wickets'] * 25  # 25 points per wicket\n",
    "    # points += player['maidens'] * 12  # 12 points per maiden over\n",
    "\n",
    "    # Bonus for wicket types\n",
    "    if 'LBWs/Bowled' in player:\n",
    "        points += player['LBWs/Bowled'] * 8  # 8 points per LBW/Bowled wicket\n",
    "\n",
    "    # Bonus for wicket hauls\n",
    "    if player['wickets'] >= 5:\n",
    "        points += 16\n",
    "    elif player['wickets'] == 4:\n",
    "        points += 8\n",
    "    elif player['wickets'] == 3:\n",
    "        points += 4\n",
    "\n",
    "    # Economy Rate Bonus/Penalty (applicable in limited-overs matches)\n",
    "    if player['match_type'] in ['IT20', 'ODM', 'ODI', 'T20'] and player['balls_bowled'] / 6 >= 2:\n",
    "        economy_rate = player['runs_conceded'] / (player['balls_bowled'] / 6)\n",
    "        if player['match_type'] in ['T20', 'IT20']:\n",
    "            if economy_rate < 5:\n",
    "                points += 6\n",
    "            elif 5 <= economy_rate < 6:\n",
    "                points += 4\n",
    "            elif 6 <= economy_rate < 7:\n",
    "                points += 2\n",
    "            elif 10 <= economy_rate < 11:\n",
    "                points -= 2\n",
    "            elif 11 <= economy_rate < 12:\n",
    "                points -= 4\n",
    "            elif economy_rate >= 12:\n",
    "                points -= 6\n",
    "        elif player['match_type'] in ['ODI', 'ODI']:\n",
    "            if economy_rate < 2.5:\n",
    "                points += 6\n",
    "            elif 2.5 <= economy_rate < 3.5:\n",
    "                points += 4\n",
    "            elif 3.5 <= economy_rate < 4.5:\n",
    "                points += 2\n",
    "            elif 7 <= economy_rate < 8:\n",
    "                points -= 2\n",
    "            elif 8 <= economy_rate < 9:\n",
    "                points -= 4\n",
    "            elif economy_rate >= 9:\n",
    "                points -= 6\n",
    "\n",
    "    # Fielding Points\n",
    "    points += player['no_of_catches'] * 8  # 8 points per catch\n",
    "    points += player['stumpings'] * 12  # 12 points per stumping\n",
    "    # avg of (6 + 12) / 2 points per direct hit run-out and points per thrower/catcher run-out\n",
    "    points += player['runouts'] * ((6 + 12) // 2)\n",
    "\n",
    "    return points"
   ]
  },
  {
   "cell_type": "code",
   "execution_count": 17,
   "metadata": {},
   "outputs": [],
   "source": [
    "def add_fantasy_points(input_file: str, output_file: str):\n",
    "    # Load the data\n",
    "    df = pd.read_csv(input_file)\n",
    "    \n",
    "    # Calculate fantasy points for each player\n",
    "    df['fantasy_points'] = df.apply(calculate_fantasy_points, axis=1)\n",
    "    \n",
    "    # Sort the dataframe by 'date' and 'match_id' to ensure that matches with the same match_id are grouped together\n",
    "    df = df.sort_values(by=['date', 'match_id'], ascending=[True, True])\n",
    "    \n",
    "    # Save the updated dataframe to the output file\n",
    "    df.to_csv(output_file, index=False)"
   ]
  },
  {
   "cell_type": "code",
   "execution_count": 20,
   "metadata": {},
   "outputs": [
    {
     "name": "stderr",
     "output_type": "stream",
     "text": [
      "C:\\Users\\Dell\\AppData\\Local\\Temp\\ipykernel_8540\\3495120594.py:3: DtypeWarning: Columns (0) have mixed types. Specify dtype option on import or set low_memory=False.\n",
      "  df = pd.read_csv(input_file)\n"
     ]
    }
   ],
   "source": [
    "input_file = '../data/interim/ODI_MatchWise.csv'\n",
    "output_file = '../data/interim/ODI_MatchWise_fantasy_points.csv'\n",
    "\n",
    "add_fantasy_points(input_file, output_file)\n"
   ]
  },
  {
   "cell_type": "code",
   "execution_count": 21,
   "metadata": {},
   "outputs": [
    {
     "name": "stderr",
     "output_type": "stream",
     "text": [
      "C:\\Users\\Dell\\AppData\\Local\\Temp\\ipykernel_8540\\3495120594.py:3: DtypeWarning: Columns (0) have mixed types. Specify dtype option on import or set low_memory=False.\n",
      "  df = pd.read_csv(input_file)\n"
     ]
    }
   ],
   "source": [
    "input_file = '../data/interim/T20_MatchWise.csv'\n",
    "output_file = '../data/interim/T20_MatchWise_fantasy_points.csv'\n",
    "\n",
    "add_fantasy_points(input_file, output_file)"
   ]
  },
  {
   "cell_type": "code",
   "execution_count": 22,
   "metadata": {},
   "outputs": [],
   "source": [
    "input_file = '../data/interim/Test_MatchWise.csv'\n",
    "output_file = '../data/interim/Test_MatchWise_fantasy_points.csv'\n",
    "\n",
    "add_fantasy_points(input_file, output_file)"
   ]
  },
  {
   "cell_type": "code",
   "execution_count": null,
   "metadata": {},
   "outputs": [],
   "source": []
  }
 ],
 "metadata": {
  "kernelspec": {
   "display_name": "Python 3",
   "language": "python",
   "name": "python3"
  },
  "language_info": {
   "codemirror_mode": {
    "name": "ipython",
    "version": 3
   },
   "file_extension": ".py",
   "mimetype": "text/x-python",
   "name": "python",
   "nbconvert_exporter": "python",
   "pygments_lexer": "ipython3",
   "version": "3.12.7"
  }
 },
 "nbformat": 4,
 "nbformat_minor": 2
}
