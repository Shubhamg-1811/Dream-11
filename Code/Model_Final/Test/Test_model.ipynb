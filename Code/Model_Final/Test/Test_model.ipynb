{
 "cells": [
  {
   "cell_type": "markdown",
   "metadata": {},
   "source": [
    "IMPORT FILES"
   ]
  },
  {
   "cell_type": "code",
   "execution_count": 3,
   "metadata": {},
   "outputs": [
    {
     "data": {
      "text/plain": [
       "'/Users/chaitanyatandon/Desktop/DREAM_11_v2/Dream-11/Code/Model_Final/Test'"
      ]
     },
     "execution_count": 3,
     "metadata": {},
     "output_type": "execute_result"
    }
   ],
   "source": [
    "import os\n",
    "os.getcwd()"
   ]
  },
  {
   "cell_type": "code",
   "execution_count": 5,
   "metadata": {},
   "outputs": [],
   "source": [
    "import pandas as pd\n",
    "\n",
    "file1_path = '../../../CSVs/Final/Test/career_test.csv'\n",
    "file2_path = '../../../CSVs/Final/Test/recent_test.csv'\n",
    "file3_path = '../../../CSVs/Final/Test/venue_test.csv'\n",
    "file4_path = '../../../CSVs/Final/Test/player_match_data_test.csv'\n",
    "\n",
    "df1 = pd.read_csv(file1_path)\n",
    "df2 = pd.read_csv(file2_path)\n",
    "df3 = pd.read_csv(file3_path)\n",
    "df4 = pd.read_csv(file4_path)"
   ]
  },
  {
   "cell_type": "code",
   "execution_count": 7,
   "metadata": {},
   "outputs": [
    {
     "name": "stdout",
     "output_type": "stream",
     "text": [
      "64989\n",
      "64989\n",
      "64989\n",
      "57153\n"
     ]
    }
   ],
   "source": [
    "print(df1.shape[0])\n",
    "print(df2.shape[0])\n",
    "print(df3.shape[0])\n",
    "print(df4.shape[0])"
   ]
  },
  {
   "cell_type": "code",
   "execution_count": 6,
   "metadata": {},
   "outputs": [
    {
     "name": "stdout",
     "output_type": "stream",
     "text": [
      "<class 'pandas.core.frame.DataFrame'>\n",
      "Int64Index: 57153 entries, 0 to 57152\n",
      "Data columns (total 37 columns):\n",
      " #   Column                             Non-Null Count  Dtype  \n",
      "---  ------                             --------------  -----  \n",
      " 0   match_id                           57153 non-null  int64  \n",
      " 1   player_id                          57153 non-null  object \n",
      " 2   career_batsman_100s_test           57153 non-null  int64  \n",
      " 3   career_batsman_50s_test            57153 non-null  int64  \n",
      " 4   career_batsman_average_runs_test   57153 non-null  float64\n",
      " 5   career_batsman_total_runs_test     57153 non-null  int64  \n",
      " 6   career_bowler_average_test         57153 non-null  float64\n",
      " 7   career_bowler_wickets_test         57153 non-null  int64  \n",
      " 8   career_fielder_total_catches_test  57153 non-null  int64  \n",
      " 9   career_fielder_total_runouts_test  57153 non-null  int64  \n",
      " 10  career_batsman_total_fours_test    57153 non-null  int64  \n",
      " 11  career_batsman_total_sixes_test    57153 non-null  int64  \n",
      " 12  recent_batsman_total_runs_test     57153 non-null  int64  \n",
      " 13  recent_batsman_average_runs_test   57153 non-null  float64\n",
      " 14  recent_batsman_total_fours_test    57153 non-null  int64  \n",
      " 15  recent_batsman_total_sixes_test    57153 non-null  int64  \n",
      " 16  recent_batsman_50s_test            57153 non-null  int64  \n",
      " 17  recent_batsman_100s_test           57153 non-null  int64  \n",
      " 18  recent_bowler_average_test         57153 non-null  float64\n",
      " 19  recent_bowler_wickets_test         57153 non-null  int64  \n",
      " 20  recent_fielder_total_catches_test  57153 non-null  int64  \n",
      " 21  recent_fielder_runouts_test        57153 non-null  int64  \n",
      " 22  venue_batsman_100s_test            57153 non-null  int64  \n",
      " 23  venue_batsman_50s_test             57153 non-null  int64  \n",
      " 24  venue_batsman_average_runs_test    57153 non-null  float64\n",
      " 25  venue_batsman_total_runs_test      57153 non-null  int64  \n",
      " 26  venue_bowler_average_test          57153 non-null  float64\n",
      " 27  venue_bowler_wickets_test          57153 non-null  int64  \n",
      " 28  venue_fielder_total_catches_test   57153 non-null  int64  \n",
      " 29  venue_fielder_total_runouts_test   57153 non-null  int64  \n",
      " 30  venue_batsman_total_fours_test     57153 non-null  int64  \n",
      " 31  venue_batsman_total_sixes_test     57153 non-null  int64  \n",
      " 32  player_name                        57153 non-null  object \n",
      " 33  fantasy_points                     57153 non-null  int64  \n",
      " 34  team_name                          55954 non-null  object \n",
      " 35  role                               57153 non-null  object \n",
      " 36  date                               57153 non-null  object \n",
      "dtypes: float64(6), int64(26), object(5)\n",
      "memory usage: 16.6+ MB\n",
      "None\n"
     ]
    }
   ],
   "source": [
    "# Perform the inner merge on 'match_id' and 'player_id' for all four DataFrames\n",
    "merged_df = pd.merge(df1, df2, on=['match_id', 'player_id'], how='inner')\n",
    "merged_df = pd.merge(merged_df, df3, on=['match_id', 'player_id'], how='inner')\n",
    "merged_df = pd.merge(merged_df, df4, on=['match_id', 'player_id'], how='inner')\n",
    "\n",
    "# The final DataFrame after all merges\n",
    "print(merged_df.info())"
   ]
  },
  {
   "cell_type": "code",
   "execution_count": 8,
   "metadata": {},
   "outputs": [],
   "source": [
    "# Convert 'date' column to datetime\n",
    "merged_df['date'] = pd.to_datetime(merged_df['date'])\n",
    "\n",
    "# Split the DataFrame based on the condition (date <= June 30, 2024)\n",
    "split_date = pd.to_datetime('2024-06-30')\n",
    "\n",
    "merged_df_before_june = merged_df[merged_df['date'] <= split_date]\n",
    "merged_df_after_june = merged_df[merged_df['date'] > split_date]\n",
    "\n"
   ]
  },
  {
   "cell_type": "code",
   "execution_count": 9,
   "metadata": {},
   "outputs": [
    {
     "name": "stdout",
     "output_type": "stream",
     "text": [
      "Model coefficients: [-3.65939217e-02  3.87464833e-03  9.47375624e-01 -1.64406949e-04\n",
      "  7.51890307e-02  1.65166313e-02  1.59002418e-01  6.43801109e-02\n",
      " -1.50681907e-02 -2.78177357e-01  5.84259390e-02 -2.36049910e-01\n",
      "  6.89740972e-04  1.00374092e-01 -6.09142912e-02 -1.13068874e-01\n",
      "  2.77575071e-01  4.35651731e+00  8.36612994e-01  5.63782411e-02\n",
      " -1.58738406e-02  1.91604360e-02 -2.40626883e-02 -1.26630183e-02\n",
      "  1.04004182e-01  4.28045711e-01  8.16429292e-02  8.53908166e-03\n",
      "  4.78522672e-02 -3.80462896e-02]\n",
      "Model intercept: 0.4201322762818633\n"
     ]
    },
    {
     "name": "stderr",
     "output_type": "stream",
     "text": [
      "/Users/chaitanyatandon/anaconda3/lib/python3.11/site-packages/sklearn/linear_model/_huber.py:342: ConvergenceWarning: lbfgs failed to converge (status=1):\n",
      "STOP: TOTAL NO. of ITERATIONS REACHED LIMIT.\n",
      "\n",
      "Increase the number of iterations (max_iter) or scale the data as shown in:\n",
      "    https://scikit-learn.org/stable/modules/preprocessing.html\n",
      "  self.n_iter_ = _check_optimize_result(\"lbfgs\", opt_res, self.max_iter)\n"
     ]
    }
   ],
   "source": [
    "from sklearn.linear_model import HuberRegressor\n",
    "from sklearn.preprocessing import StandardScaler\n",
    "\n",
    "# Drop columns that are not part of X_train\n",
    "columns_to_drop = ['match_id', 'player_id', 'player_name', 'fantasy_points', 'team_name', 'role', 'date']\n",
    "X_train = merged_df_before_june.drop(columns=columns_to_drop)\n",
    "\n",
    "# Extract the target variable (fantasy_points)\n",
    "y_train = merged_df_before_june['fantasy_points']\n",
    "\n",
    "# # Standardize the features (mean=0, std=1)\n",
    "# scaler = StandardScaler()\n",
    "# X_train_scaled = scaler.fit_transform(X_train)\n",
    "\n",
    "# Initialize the Huber Regressor model\n",
    "model = HuberRegressor()\n",
    "\n",
    "# Fit the model to the scaled training data\n",
    "model.fit(X_train, y_train)\n",
    "\n",
    "# After training, you can check the coefficients and intercept\n",
    "print(f\"Model coefficients: {model.coef_}\")\n",
    "print(f\"Model intercept: {model.intercept_}\")\n"
   ]
  },
  {
   "cell_type": "code",
   "execution_count": 10,
   "metadata": {},
   "outputs": [],
   "source": [
    "# X_test and y_test for merged_df_after_june\n",
    "X_test = merged_df_after_june.drop(columns=columns_to_drop)\n",
    "y_test = merged_df_after_june['fantasy_points']\n",
    "\n",
    "# # Initialize the StandardScaler\n",
    "# scaler = StandardScaler()\n",
    "\n",
    "\n",
    "# # Transform X_test with the already fitted scaler\n",
    "# X_test_scaled = scaler.transform(X_test)\n",
    "\n",
    "# Use the trained model to make predictions on the test data\n",
    "y_pred = model.predict(X_test)\n",
    "\n",
    "# You can now compare y_pred with y_test to evaluate the model's performance\n"
   ]
  },
  {
   "cell_type": "code",
   "execution_count": 12,
   "metadata": {},
   "outputs": [
    {
     "name": "stdout",
     "output_type": "stream",
     "text": [
      "Predictions saved to Results/predicted_fantasy_points_odi.csv\n"
     ]
    }
   ],
   "source": [
    "\n",
    "# Make predictions on X_test\n",
    "y_pred = model.predict(X_test)\n",
    "\n",
    "# Create a new DataFrame with the necessary columns\n",
    "predictions_df = merged_df_after_june[['match_id', 'player_id', 'player_name', 'fantasy_points', 'role', 'team_name']].copy()\n",
    "\n",
    "# Add the predicted fantasy points to the DataFrame\n",
    "predictions_df['predicted_fantasy_points'] = y_pred\n",
    "\n",
    "# Rename the fantasy_points column to actual_fantasy_points\n",
    "predictions_df.rename(columns={'fantasy_points': 'actual_fantasy_points'}, inplace=True)\n",
    "\n",
    "# Save the DataFrame to a CSV file\n",
    "output_file = \"Results/predicted_fantasy_points_odi.csv\"  # You can change the file path as needed\n",
    "predictions_df.to_csv(output_file, index=False)\n",
    "\n",
    "print(f\"Predictions saved to {output_file}\")\n"
   ]
  },
  {
   "cell_type": "code",
   "execution_count": 13,
   "metadata": {},
   "outputs": [
    {
     "name": "stdout",
     "output_type": "stream",
     "text": [
      "Dream Team details saved to Results/dream_team_with_predicted_fantasy_points.csv\n"
     ]
    }
   ],
   "source": [
    "import pandas as pd\n",
    "\n",
    "# Input File (Predicted Fantasy Points)\n",
    "input_file = \"Results/predicted_fantasy_points_odi.csv\"\n",
    "\n",
    "# Output File\n",
    "output_file = \"Results/dream_team_with_predicted_fantasy_points.csv\"\n",
    "\n",
    "# Columns for Output\n",
    "output_columns = [\n",
    "    \"match_id\", \"player_id\", \"player_name\", \"actual_fantasy_points\", \"role\", \"team_name\", \"predicted_fantasy_points\"\n",
    "]\n",
    "\n",
    "# Read Data\n",
    "data = pd.read_csv(input_file)\n",
    "\n",
    "# Prepare Output Data\n",
    "output_data = []\n",
    "\n",
    "# Define Dream Team Calculation Logic\n",
    "def calculate_dream_team(players):\n",
    "    try:\n",
    "        # Step 1: Pick one player from each role based on predicted fantasy points\n",
    "        selected_players = []\n",
    "        for role in [\"Batsman\", \"Bowler\", \"Wicket-Keeper\", \"All-Rounder\"]:\n",
    "            role_players = [p for p in players if p[\"role\"] == role]\n",
    "            if role_players:\n",
    "                selected_players.append(max(role_players, key=lambda x: x[\"predicted_fantasy_points\"]))\n",
    "\n",
    "        # Step 2: Select remaining players to make a team of 11\n",
    "        remaining_players = [p for p in players if p not in selected_players]\n",
    "        remaining_players.sort(key=lambda x: x[\"predicted_fantasy_points\"], reverse=True)\n",
    "\n",
    "        while len(selected_players) < 11:\n",
    "            next_player = remaining_players.pop(0)\n",
    "            selected_players.append(next_player)\n",
    "\n",
    "        # Step 3: Ensure team diversity (max 5 players from one team)\n",
    "        team_counts = pd.DataFrame(selected_players)[\"team_name\"].value_counts()\n",
    "        if team_counts.max() == 11:\n",
    "            # Replace the lowest fantasy point player with the highest fantasy point player from the other team\n",
    "            other_team = [team for team in players[0][\"team_name\"].unique() if team not in team_counts.index][0]\n",
    "            lowest_fantasy_player = min(selected_players, key=lambda x: x[\"predicted_fantasy_points\"])\n",
    "            replacement_player = max(\n",
    "                [p for p in players if p[\"team_name\"] == other_team and p not in selected_players],\n",
    "                key=lambda x: x[\"predicted_fantasy_points\"]\n",
    "            )\n",
    "            selected_players.remove(lowest_fantasy_player)\n",
    "            selected_players.append(replacement_player)\n",
    "\n",
    "        # Step 4: Sort selected players by predicted fantasy points\n",
    "        selected_players.sort(key=lambda x: x[\"predicted_fantasy_points\"], reverse=True)\n",
    "\n",
    "        return selected_players, \"Optimal\"\n",
    "\n",
    "    except Exception as e:\n",
    "        print(f\"Error in calculating dream team: {e}\")\n",
    "        return None, \"Error\"\n",
    "\n",
    "# Process Matches\n",
    "i = 1\n",
    "for match_id, match_group in data.groupby(\"match_id\"):\n",
    "    # Extract only necessary columns (player_id, role, team_name, predicted_fantasy_points)\n",
    "    players = match_group[['match_id', 'player_id', 'player_name', 'actual_fantasy_points', 'role', 'team_name', 'predicted_fantasy_points']].to_dict(orient=\"records\")\n",
    "    \n",
    "    # Calculate Dream Team\n",
    "    selected_team, status = calculate_dream_team(players)\n",
    "\n",
    "    if selected_team is None or len(selected_team) != 11:\n",
    "        # If selected_team is None or doesn't have exactly 11 players, log the error\n",
    "        with open(\"matches_where_team_could_not_be_formed.txt\", 'a') as file:\n",
    "            file.write(f\"{status}, {match_id}, {len(selected_team) if selected_team else 'None'}, {selected_team if selected_team else 'None'}\\n\")\n",
    "        i += 1\n",
    "        continue\n",
    "\n",
    "    # Prepare Row for Output\n",
    "    for player in selected_team:\n",
    "        row = [\n",
    "            match_id,\n",
    "            player[\"player_id\"],\n",
    "            player[\"player_name\"],\n",
    "            player[\"actual_fantasy_points\"],\n",
    "            player[\"role\"],\n",
    "            player[\"team_name\"],\n",
    "            player[\"predicted_fantasy_points\"]\n",
    "        ]\n",
    "        output_data.append(row)\n",
    "\n",
    "    if i % 100 == 0:\n",
    "        print(f\"Processed {i} matches...\")\n",
    "    i += 1\n",
    "\n",
    "# Write Output to CSV\n",
    "output_df = pd.DataFrame(output_data, columns=output_columns)\n",
    "output_df.to_csv(output_file, index=False)\n",
    "\n",
    "print(f\"Dream Team details saved to {output_file}\")\n",
    "\n"
   ]
  },
  {
   "cell_type": "code",
   "execution_count": 14,
   "metadata": {},
   "outputs": [
    {
     "name": "stdout",
     "output_type": "stream",
     "text": [
      "Dream Team details saved to Results/dream_team_with_actual_fantasy_points.csv\n"
     ]
    }
   ],
   "source": [
    "import pandas as pd\n",
    "\n",
    "# Input File (Predicted Fantasy Points)\n",
    "input_file = \"Results/predicted_fantasy_points_odi.csv\"\n",
    "\n",
    "# Output File\n",
    "output_file = \"Results/dream_team_with_actual_fantasy_points.csv\"\n",
    "\n",
    "# Columns for Output\n",
    "output_columns = [\n",
    "    \"match_id\", \"player_id\", \"player_name\", \"actual_fantasy_points\", \"role\", \"team_name\", \"predicted_fantasy_points\"\n",
    "]\n",
    "\n",
    "# Read Data\n",
    "data = pd.read_csv(input_file)\n",
    "\n",
    "# Prepare Output Data\n",
    "output_data = []\n",
    "\n",
    "# Define Dream Team Calculation Logic\n",
    "def calculate_dream_team(players):\n",
    "    try:\n",
    "        # Step 1: Pick one player from each role based on predicted fantasy points\n",
    "        selected_players = []\n",
    "        for role in [\"Batsman\", \"Bowler\", \"Wicket-Keeper\", \"All-Rounder\"]:\n",
    "            role_players = [p for p in players if p[\"role\"] == role]\n",
    "            if role_players:\n",
    "                selected_players.append(max(role_players, key=lambda x: x[\"actual_fantasy_points\"]))\n",
    "\n",
    "        # Step 2: Select remaining players to make a team of 11\n",
    "        remaining_players = [p for p in players if p not in selected_players]\n",
    "        remaining_players.sort(key=lambda x: x[\"actual_fantasy_points\"], reverse=True)\n",
    "\n",
    "        while len(selected_players) < 11:\n",
    "            next_player = remaining_players.pop(0)\n",
    "            selected_players.append(next_player)\n",
    "\n",
    "        # Step 3: Ensure team diversity (max 5 players from one team)\n",
    "        team_counts = pd.DataFrame(selected_players)[\"team_name\"].value_counts()\n",
    "        if team_counts.max() == 11:\n",
    "            # Replace the lowest fantasy point player with the highest fantasy point player from the other team\n",
    "            other_team = [team for team in players[0][\"team_name\"].unique() if team not in team_counts.index][0]\n",
    "            lowest_fantasy_player = min(selected_players, key=lambda x: x[\"actual_fantasy_points\"])\n",
    "            replacement_player = max(\n",
    "                [p for p in players if p[\"team_name\"] == other_team and p not in selected_players],\n",
    "                key=lambda x: x[\"actual_fantasy_points\"]\n",
    "            )\n",
    "            selected_players.remove(lowest_fantasy_player)\n",
    "            selected_players.append(replacement_player)\n",
    "\n",
    "        # Step 4: Sort selected players by actual fantasy points\n",
    "        selected_players.sort(key=lambda x: x[\"actual_fantasy_points\"], reverse=True)\n",
    "\n",
    "        return selected_players, \"Optimal\"\n",
    "\n",
    "    except Exception as e:\n",
    "        print(f\"Error in calculating dream team: {e}\")\n",
    "        return None, \"Error\"\n",
    "\n",
    "# Process Matches\n",
    "i = 1\n",
    "for match_id, match_group in data.groupby(\"match_id\"):\n",
    "    # Extract only necessary columns (player_id, role, team_name, predicted_fantasy_points)\n",
    "    players = match_group[['match_id', 'player_id', 'player_name', 'actual_fantasy_points', 'role', 'team_name', 'predicted_fantasy_points']].to_dict(orient=\"records\")\n",
    "    \n",
    "    # Calculate Dream Team\n",
    "    selected_team, status = calculate_dream_team(players)\n",
    "\n",
    "    if selected_team is None or len(selected_team) != 11:\n",
    "        # If selected_team is None or doesn't have exactly 11 players, log the error\n",
    "        with open(\"matches_where_team_could_not_be_formed.txt\", 'a') as file:\n",
    "            file.write(f\"{status}, {match_id}, {len(selected_team) if selected_team else 'None'}, {selected_team if selected_team else 'None'}\\n\")\n",
    "        i += 1\n",
    "        continue\n",
    "\n",
    "    # Prepare Row for Output\n",
    "    for player in selected_team:\n",
    "        row = [\n",
    "            match_id,\n",
    "            player[\"player_id\"],\n",
    "            player[\"player_name\"],\n",
    "            player[\"actual_fantasy_points\"],\n",
    "            player[\"role\"],\n",
    "            player[\"team_name\"],\n",
    "            player[\"predicted_fantasy_points\"]\n",
    "        ]\n",
    "        output_data.append(row)\n",
    "\n",
    "    if i % 100 == 0:\n",
    "        print(f\"Processed {i} matches...\")\n",
    "    i += 1\n",
    "\n",
    "# Write Output to CSV\n",
    "output_df = pd.DataFrame(output_data, columns=output_columns)\n",
    "output_df.to_csv(output_file, index=False)\n",
    "\n",
    "print(f\"Dream Team details saved to {output_file}\")\n",
    "\n"
   ]
  },
  {
   "cell_type": "code",
   "execution_count": 15,
   "metadata": {},
   "outputs": [
    {
     "name": "stdout",
     "output_type": "stream",
     "text": [
      "Summary saved to Results/dream_team_summary.csv\n"
     ]
    }
   ],
   "source": [
    "import pandas as pd\n",
    "\n",
    "# File paths for the input files\n",
    "predicted_file = \"Results/dream_team_with_predicted_fantasy_points.csv\"\n",
    "actual_file = \"Results/dream_team_with_actual_fantasy_points.csv\"\n",
    "\n",
    "# Output file path\n",
    "output_file = \"Results/dream_team_summary.csv\"\n",
    "\n",
    "# Read the data from the two files\n",
    "predicted_df = pd.read_csv(predicted_file)\n",
    "actual_df = pd.read_csv(actual_file)\n",
    "\n",
    "# Initialize list to store the summary for each match_id\n",
    "summary_data = []\n",
    "\n",
    "# Function to calculate the sum of fantasy points (with captain and vice-captain multipliers)\n",
    "def calculate_team_points(team_df):\n",
    "    team_df = team_df.sort_values(by='predicted_fantasy_points', ascending=False)  # Sort by predicted points (or actual, depending on case)\n",
    "    \n",
    "    total_points = 0\n",
    "    if len(team_df) >= 1:\n",
    "        # Highest points player (Captain)\n",
    "        total_points += team_df.iloc[0]['predicted_fantasy_points'] * 2\n",
    "    if len(team_df) >= 2:\n",
    "        # Second highest points player (Vice-Captain)\n",
    "        total_points += team_df.iloc[1]['predicted_fantasy_points'] * 1.5\n",
    "    \n",
    "    # Add the rest normally\n",
    "    total_points += team_df.iloc[2:]['predicted_fantasy_points'].sum()\n",
    "\n",
    "    return total_points\n",
    "\n",
    "# Iterate through the unique match IDs\n",
    "for match_id in predicted_df['match_id'].unique():\n",
    "    # Get the predicted dream team for the current match_id\n",
    "    predicted_team = predicted_df[predicted_df['match_id'] == match_id]\n",
    "\n",
    "    # Get the actual dream team for the current match_id\n",
    "    actual_team = actual_df[actual_df['match_id'] == match_id]\n",
    "\n",
    "    # Calculate the sum of actual and predicted points for both teams\n",
    "    predicted_team_points = calculate_team_points(predicted_team)\n",
    "    actual_team_points_predicted = calculate_team_points(actual_team)\n",
    "    \n",
    "    # Add the match summary to the summary_data list\n",
    "    summary_data.append({\n",
    "        'match_id': match_id,\n",
    "        'sum_predicted_points_predicted_team': predicted_team_points,\n",
    "        'sum_predicted_points_actual_team': actual_team_points_predicted,\n",
    "        'sum_actual_points_predicted_team': predicted_team['actual_fantasy_points'].sum(),\n",
    "        'sum_actual_points_actual_team': actual_team['actual_fantasy_points'].sum()\n",
    "    })\n",
    "\n",
    "# Create a DataFrame from the summary_data\n",
    "summary_df = pd.DataFrame(summary_data)\n",
    "\n",
    "# Write the summary data to a CSV file\n",
    "summary_df.to_csv(output_file, index=False)\n",
    "\n",
    "print(f\"Summary saved to {output_file}\")\n"
   ]
  },
  {
   "cell_type": "code",
   "execution_count": 16,
   "metadata": {},
   "outputs": [
    {
     "name": "stdout",
     "output_type": "stream",
     "text": [
      "Percentage Errors for each match:\n",
      "    match_id  %error_predicted_actual  %error_predicted_predicted\n",
      "0    1385691                18.826937                    2.096082\n",
      "1    1385692                23.927239                   41.251034\n",
      "2    1385693                25.263811                   13.792099\n",
      "3    1385694                23.571040                   24.612990\n",
      "4    1385695                12.400398                   30.559202\n",
      "..       ...                      ...                         ...\n",
      "74   1447097                47.494305                    8.336413\n",
      "75   1452137                13.018868                   30.358557\n",
      "76   1452138                25.527535                   33.685621\n",
      "77   1453293                14.140271                   20.702089\n",
      "78   1453294                17.110036                   19.215252\n",
      "\n",
      "[79 rows x 3 columns]\n",
      "\n",
      "Mean % error between predicted team actual points and actual team actual points: 27.20%\n",
      "Mean % error between predicted team predicted points and actual team actual points: 20.52%\n"
     ]
    }
   ],
   "source": [
    "import pandas as pd\n",
    "\n",
    "# Load the dream_team_summary.csv file into a DataFrame\n",
    "summary_file = \"Results/dream_team_summary.csv\"\n",
    "df = pd.read_csv(summary_file)\n",
    "\n",
    "# Calculate the percentage errors for each match\n",
    "df['%error_predicted_actual'] = abs(df['sum_actual_points_predicted_team'] - df['sum_actual_points_actual_team']) / df['sum_actual_points_actual_team'] * 100\n",
    "df['%error_predicted_predicted'] = abs(df['sum_predicted_points_predicted_team'] - df['sum_actual_points_actual_team']) / df['sum_actual_points_actual_team'] * 100\n",
    "\n",
    "# Print the results with the percentage errors\n",
    "print(\"Percentage Errors for each match:\")\n",
    "print(df[['match_id', '%error_predicted_actual', '%error_predicted_predicted']])\n",
    "\n",
    "# Calculate the mean of the percentage errors\n",
    "mean_error_predicted_actual = df['%error_predicted_actual'].mean()\n",
    "mean_error_predicted_predicted = df['%error_predicted_predicted'].mean()\n",
    "\n",
    "# Print the mean errors\n",
    "print(f\"\\nMean % error between predicted team actual points and actual team actual points: {mean_error_predicted_actual:.2f}%\")\n",
    "print(f\"Mean % error between predicted team predicted points and actual team actual points: {mean_error_predicted_predicted:.2f}%\")\n"
   ]
  },
  {
   "cell_type": "code",
   "execution_count": 17,
   "metadata": {},
   "outputs": [
    {
     "name": "stdout",
     "output_type": "stream",
     "text": [
      "Percentage Errors for each match:\n",
      "    match_id  %error_predicted_actual  %error_predicted_predicted\n",
      "0    1385691                18.826937                    2.096082\n",
      "1    1385692                23.927239                   41.251034\n",
      "2    1385693                25.263811                   13.792099\n",
      "3    1385694                23.571040                   24.612990\n",
      "4    1385695                12.400398                   30.559202\n",
      "..       ...                      ...                         ...\n",
      "74   1447097                47.494305                    8.336413\n",
      "75   1452137                13.018868                   30.358557\n",
      "76   1452138                25.527535                   33.685621\n",
      "77   1453293                14.140271                   20.702089\n",
      "78   1453294                17.110036                   19.215252\n",
      "\n",
      "[79 rows x 3 columns]\n",
      "\n",
      "Mean % error between predicted team actual points and actual team actual points: 27.20%\n",
      "Mean % error between predicted team predicted points and actual team actual points: 20.52%\n"
     ]
    }
   ],
   "source": [
    "import pandas as pd\n",
    "\n",
    "# Load the dream_team_summary.csv file into a DataFrame\n",
    "summary_file = \"Results/dream_team_summary.csv\"\n",
    "df = pd.read_csv(summary_file)\n",
    "\n",
    "# Calculate the percentage errors for each match\n",
    "df['%error_predicted_actual'] = abs(df['sum_actual_points_predicted_team'] - df['sum_actual_points_actual_team']) / df['sum_actual_points_actual_team'] * 100\n",
    "df['%error_predicted_predicted'] = abs(df['sum_predicted_points_predicted_team'] - df['sum_actual_points_actual_team']) / df['sum_actual_points_actual_team'] * 100\n",
    "\n",
    "# Calculate the mean of the percentage errors\n",
    "mean_error_predicted_actual = df['%error_predicted_actual'].mean()\n",
    "mean_error_predicted_predicted = df['%error_predicted_predicted'].mean()\n",
    "\n",
    "# Print the results with the percentage errors\n",
    "print(\"Percentage Errors for each match:\")\n",
    "print(df[['match_id', '%error_predicted_actual', '%error_predicted_predicted']])\n",
    "\n",
    "# Print the mean errors\n",
    "print(f\"\\nMean % error between predicted team actual points and actual team actual points: {mean_error_predicted_actual:.2f}%\")\n",
    "print(f\"Mean % error between predicted team predicted points and actual team actual points: {mean_error_predicted_predicted:.2f}%\")\n",
    "\n",
    "# Save the updated DataFrame to the same CSV file\n",
    "df.to_csv(summary_file, index=False)\n",
    "\n",
    "# Optionally, save to a new file if you don't want to overwrite the original\n",
    "# df.to_csv(\"Results/dream_team_summary_with_errors.csv\", index=False)\n"
   ]
  },
  {
   "cell_type": "markdown",
   "metadata": {},
   "source": [
    "SAVING MODEL"
   ]
  },
  {
   "cell_type": "code",
   "execution_count": 18,
   "metadata": {},
   "outputs": [
    {
     "data": {
      "text/plain": [
       "['model_odi.pkl']"
      ]
     },
     "execution_count": 18,
     "metadata": {},
     "output_type": "execute_result"
    }
   ],
   "source": [
    "import joblib\n",
    "\n",
    "\n",
    "\n",
    "# Save the model to a file\n",
    "joblib.dump(model, 'model_odi.pkl')\n"
   ]
  }
 ],
 "metadata": {
  "kernelspec": {
   "display_name": "base",
   "language": "python",
   "name": "python3"
  },
  "language_info": {
   "codemirror_mode": {
    "name": "ipython",
    "version": 3
   },
   "file_extension": ".py",
   "mimetype": "text/x-python",
   "name": "python",
   "nbconvert_exporter": "python",
   "pygments_lexer": "ipython3",
   "version": "3.11.4"
  },
  "orig_nbformat": 4
 },
 "nbformat": 4,
 "nbformat_minor": 2
}
