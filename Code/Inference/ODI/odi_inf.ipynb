{
 "cells": [
  {
   "cell_type": "code",
   "execution_count": 4,
   "metadata": {},
   "outputs": [
    {
     "data": {
      "text/plain": [
       "'/Users/chaitanyatandon/Desktop/DREAM_11_v2/Dream-11/Code/Inference/ODI'"
      ]
     },
     "execution_count": 4,
     "metadata": {},
     "output_type": "execute_result"
    }
   ],
   "source": [
    "import os\n",
    "os.getcwd()"
   ]
  },
  {
   "cell_type": "code",
   "execution_count": 5,
   "metadata": {},
   "outputs": [
    {
     "name": "stderr",
     "output_type": "stream",
     "text": [
      "/var/folders/fc/m5qlqlv518x0v2g6w7wjsh1w0000gn/T/ipykernel_88842/965696669.py:4: DtypeWarning: Columns (0) have mixed types. Specify dtype option on import or set low_memory=False.\n",
      "  player_match_data_df = pd.read_csv('../../../CSVs/Final/ODI/player_match_data_odi.csv')\n",
      "/var/folders/fc/m5qlqlv518x0v2g6w7wjsh1w0000gn/T/ipykernel_88842/965696669.py:5: DtypeWarning: Columns (0) have mixed types. Specify dtype option on import or set low_memory=False.\n",
      "  career_odi_df = pd.read_csv('../../../CSVs/Final/ODI/career_odi.csv')\n",
      "/var/folders/fc/m5qlqlv518x0v2g6w7wjsh1w0000gn/T/ipykernel_88842/965696669.py:6: DtypeWarning: Columns (0) have mixed types. Specify dtype option on import or set low_memory=False.\n",
      "  recent_odi_df = pd.read_csv('../../../CSVs/Final/ODI/recent_odi.csv')\n",
      "/var/folders/fc/m5qlqlv518x0v2g6w7wjsh1w0000gn/T/ipykernel_88842/965696669.py:7: DtypeWarning: Columns (0) have mixed types. Specify dtype option on import or set low_memory=False.\n",
      "  venue_odi_df = pd.read_csv('../../../CSVs/Final/ODI/venue_odi.csv')\n"
     ]
    }
   ],
   "source": [
    "import pandas as pd\n",
    "import numpy as np\n",
    "\n",
    "player_match_data_df = pd.read_csv('../../../CSVs/Final/ODI/player_match_data_odi.csv')\n",
    "career_odi_df = pd.read_csv('../../../CSVs/Final/ODI/career_odi.csv')\n",
    "recent_odi_df = pd.read_csv('../../../CSVs/Final/ODI/recent_odi.csv')\n",
    "venue_odi_df = pd.read_csv('../../../CSVs/Final/ODI/venue_odi.csv')"
   ]
  },
  {
   "cell_type": "code",
   "execution_count": 8,
   "metadata": {},
   "outputs": [
    {
     "name": "stderr",
     "output_type": "stream",
     "text": [
      "/var/folders/fc/m5qlqlv518x0v2g6w7wjsh1w0000gn/T/ipykernel_88842/3811206753.py:6: DtypeWarning: Columns (0) have mixed types. Specify dtype option on import or set low_memory=False.\n",
      "  player_match_data_df = pd.read_csv('../../../CSVs/Final/ODI/player_match_data_odi.csv')\n",
      "/var/folders/fc/m5qlqlv518x0v2g6w7wjsh1w0000gn/T/ipykernel_88842/3811206753.py:7: DtypeWarning: Columns (0) have mixed types. Specify dtype option on import or set low_memory=False.\n",
      "  career_odi_df = pd.read_csv('../../../CSVs/Final/ODI/career_odi.csv')\n",
      "/var/folders/fc/m5qlqlv518x0v2g6w7wjsh1w0000gn/T/ipykernel_88842/3811206753.py:8: DtypeWarning: Columns (0) have mixed types. Specify dtype option on import or set low_memory=False.\n",
      "  recent_odi_df = pd.read_csv('../../../CSVs/Final/ODI/recent_odi.csv')\n",
      "/var/folders/fc/m5qlqlv518x0v2g6w7wjsh1w0000gn/T/ipykernel_88842/3811206753.py:9: DtypeWarning: Columns (0) have mixed types. Specify dtype option on import or set low_memory=False.\n",
      "  venue_odi_df = pd.read_csv('../../../CSVs/Final/ODI/venue_odi.csv')\n"
     ]
    },
    {
     "name": "stdout",
     "output_type": "stream",
     "text": [
      "('1427836', '9d9edf14', 0, 0, 25.714285714285715, 88.66995073891626, 180, 0.0, 0.0, 0, 4, 1, 14, 0, 88, 17.6, 80.73394495412845, 4, 0, 0, 0, 0.0, 0.0, 0, 0, 1, 0, 0, 0.0, 79.66101694915254, 47, 0.0, 0.0, 0, 0, 1, 3, 0)\n"
     ]
    }
   ],
   "source": [
    "import pandas as pd\n",
    "import numpy as np\n",
    "\n",
    "def find_match_data(tournament_type, date, venue, team_name, player_id):\n",
    "    # Load the necessary CSV files into dataframes\n",
    "    player_match_data_df = pd.read_csv('../../../CSVs/Final/ODI/player_match_data_odi.csv')\n",
    "    career_odi_df = pd.read_csv('../../../CSVs/Final/ODI/career_odi.csv')\n",
    "    recent_odi_df = pd.read_csv('../../../CSVs/Final/ODI/recent_odi.csv')\n",
    "    venue_odi_df = pd.read_csv('../../../CSVs/Final/ODI/venue_odi.csv')\n",
    "    \n",
    "    # Convert the 'date' columns to datetime format\n",
    "    player_match_data_df['date'] = pd.to_datetime(player_match_data_df['date'])\n",
    "    \n",
    "    # Find the match_id of the player_id with the closest date to the input date\n",
    "    player_match_data_df = player_match_data_df[player_match_data_df['player_id'] == player_id]\n",
    "    player_match_data_df = player_match_data_df.sort_values(by='date')\n",
    "    \n",
    "    # Find the match_id where the date is nearest to the input date\n",
    "    closest_match = player_match_data_df.iloc[(player_match_data_df['date'] - pd.to_datetime(date)).abs().argmin()]\n",
    "    match_id = closest_match['match_id']\n",
    "    \n",
    "    # Check if the venue matches the input venue for the closest match\n",
    "    if closest_match['venue'] != venue:\n",
    "        return \"No matching venue found for the given date and player.\"\n",
    "\n",
    "    # Get the tuples for the given match_id and player_id from the other files\n",
    "    career_tuple = career_odi_df[(career_odi_df['match_id'] == match_id) & (career_odi_df['player_id'] == player_id)].iloc[0]\n",
    "    recent_tuple = recent_odi_df[(recent_odi_df['match_id'] == match_id) & (recent_odi_df['player_id'] == player_id)].iloc[0]\n",
    "    venue_tuple = venue_odi_df[(venue_odi_df['match_id'] == match_id) & (venue_odi_df['player_id'] == player_id)].iloc[0]\n",
    "\n",
    "    # Merge the three tuples on match_id and player_id\n",
    "    result = pd.concat([career_tuple, recent_tuple[2:], venue_tuple[2:]], axis=0)\n",
    "    \n",
    "    # Return the result as a tuple\n",
    "    return tuple(result)\n",
    "\n",
    "tournament_type = \"ODI\"\n",
    "date = \"2024-07-07\"\n",
    "venue = \"Radlett Cricket Club, Radlett\"\n",
    "team_name = \"Sunrisers\"\n",
    "player_id = \"9d9edf14\"\n",
    "\n",
    "result = find_match_data(tournament_type, date, venue, team_name, player_id)\n",
    "print(result)\n"
   ]
  },
  {
   "cell_type": "markdown",
   "metadata": {},
   "source": [
    "import pandas as pd\n",
    "import numpy as np\n",
    "\n",
    "def load_data():\n",
    "    \"\"\"Load the necessary CSV files into DataFrames.\"\"\"\n",
    "    player_match_data = pd.read_csv('../../../CSVs/Final/ODI/player_match_data_odi.csv')\n",
    "    career_data = pd.read_csv('../../../CSVs/Final/ODI/career_odi.csv')\n",
    "    recent_data = pd.read_csv('../../../CSVs/Final/ODI/recent_odi.csv')\n",
    "    venue_data = pd.read_csv('../../../CSVs/Final/ODI/venue_odi.csv')\n",
    "    return player_match_data, career_data, recent_data, venue_data\n",
    "\n",
    "def find_closest_match(player_match_data, player_id, date):\n",
    "    \"\"\"Find the closest match for the given player_id and date.\"\"\"\n",
    "    player_data = player_match_data[player_match_data['player_id'] == player_id]\n",
    "    player_data['date'] = pd.to_datetime(player_data['date'])\n",
    "    target_date = pd.to_datetime(date)\n",
    "    closest_match_idx = (player_data['date'] - target_date).abs().idxmin()\n",
    "    return player_data.loc[closest_match_idx]\n",
    "\n",
    "def find_match_data(tournament_type, date, venue, team_name, player_id):\n",
    "    \"\"\"Find and combine match data from multiple sources.\"\"\"\n",
    "    # Load data\n",
    "    player_match_data_df, career_odi_df, recent_odi_df, venue_odi_df = load_data()\n",
    "\n",
    "    # Find closest match\n",
    "    closest_match = find_closest_match(player_match_data_df, player_id, date)\n",
    "    match_id = closest_match['match_id']\n",
    "\n",
    "    # Check venue match\n",
    "    if closest_match['venue'] != venue:\n",
    "        return \"No matching venue found for the given date and player.\"\n",
    "\n",
    "    # Fetch corresponding tuples\n",
    "    career_tuple = career_odi_df[(career_odi_df['match_id'] == match_id) & (career_odi_df['player_id'] == player_id)].iloc[0]\n",
    "    recent_tuple = recent_odi_df[(recent_odi_df['match_id'] == match_id) & (recent_odi_df['player_id'] == player_id)].iloc[0]\n",
    "    venue_tuple = venue_odi_df[(venue_odi_df['match_id'] == match_id) & (venue_odi_df['player_id'] == player_id)].iloc[0]\n",
    "\n",
    "    # Combine the tuples\n",
    "    combined_result = pd.concat([career_tuple, recent_tuple[2:], venue_tuple[2:]])\n",
    "\n",
    "    # Return result as a tuple\n",
    "    return tuple(combined_result)\n",
    "\n",
    "# Input parameters\n",
    "tournament_type = \"ODI\"\n",
    "date = \"2024-07-07\"\n",
    "venue = \"Radlett Cricket Club, Radlett\"\n",
    "team_name = \"Sunrisers\"\n",
    "player_id = \"9d9edf14\"\n",
    "\n",
    "# Call the function and print the result\n",
    "result = find_match_data(tournament_type, date, venue, team_name, player_id)\n",
    "print(result)\n"
   ]
  },
  {
   "cell_type": "code",
   "execution_count": 10,
   "metadata": {},
   "outputs": [
    {
     "name": "stderr",
     "output_type": "stream",
     "text": [
      "/var/folders/fc/m5qlqlv518x0v2g6w7wjsh1w0000gn/T/ipykernel_88842/14008949.py:6: DtypeWarning: Columns (0) have mixed types. Specify dtype option on import or set low_memory=False.\n",
      "  player_match_data = pd.read_csv('../../../CSVs/Final/ODI/player_match_data_odi.csv')\n",
      "/var/folders/fc/m5qlqlv518x0v2g6w7wjsh1w0000gn/T/ipykernel_88842/14008949.py:7: DtypeWarning: Columns (0) have mixed types. Specify dtype option on import or set low_memory=False.\n",
      "  career_data = pd.read_csv('../../../CSVs/Final/ODI/career_odi.csv')\n",
      "/var/folders/fc/m5qlqlv518x0v2g6w7wjsh1w0000gn/T/ipykernel_88842/14008949.py:8: DtypeWarning: Columns (0) have mixed types. Specify dtype option on import or set low_memory=False.\n",
      "  recent_data = pd.read_csv('../../../CSVs/Final/ODI/recent_odi.csv')\n",
      "/var/folders/fc/m5qlqlv518x0v2g6w7wjsh1w0000gn/T/ipykernel_88842/14008949.py:9: DtypeWarning: Columns (0) have mixed types. Specify dtype option on import or set low_memory=False.\n",
      "  venue_data = pd.read_csv('../../../CSVs/Final/ODI/venue_odi.csv')\n",
      "/var/folders/fc/m5qlqlv518x0v2g6w7wjsh1w0000gn/T/ipykernel_88842/14008949.py:15: SettingWithCopyWarning: \n",
      "A value is trying to be set on a copy of a slice from a DataFrame.\n",
      "Try using .loc[row_indexer,col_indexer] = value instead\n",
      "\n",
      "See the caveats in the documentation: https://pandas.pydata.org/pandas-docs/stable/user_guide/indexing.html#returning-a-view-versus-a-copy\n",
      "  player_data['date'] = pd.to_datetime(player_data['date'])\n"
     ]
    },
    {
     "ename": "AttributeError",
     "evalue": "'tuple' object has no attribute 'len'",
     "output_type": "error",
     "traceback": [
      "\u001b[0;31m---------------------------------------------------------------------------\u001b[0m",
      "\u001b[0;31mAttributeError\u001b[0m                            Traceback (most recent call last)",
      "Cell \u001b[0;32mIn[10], line 53\u001b[0m\n\u001b[1;32m     51\u001b[0m \u001b[39m# Call the function and print the result\u001b[39;00m\n\u001b[1;32m     52\u001b[0m result \u001b[39m=\u001b[39m find_match_data(tournament_type, date, venue, team_name, player_id)\n\u001b[0;32m---> 53\u001b[0m \u001b[39mprint\u001b[39m(result\u001b[39m.\u001b[39mlen())\n",
      "\u001b[0;31mAttributeError\u001b[0m: 'tuple' object has no attribute 'len'"
     ]
    }
   ],
   "source": [
    "import pandas as pd\n",
    "import numpy as np\n",
    "\n",
    "def load_data():\n",
    "    \"\"\"Load the necessary CSV files into DataFrames.\"\"\"\n",
    "    player_match_data = pd.read_csv('../../../CSVs/Final/ODI/player_match_data_odi.csv')\n",
    "    career_data = pd.read_csv('../../../CSVs/Final/ODI/career_odi.csv')\n",
    "    recent_data = pd.read_csv('../../../CSVs/Final/ODI/recent_odi.csv')\n",
    "    venue_data = pd.read_csv('../../../CSVs/Final/ODI/venue_odi.csv')\n",
    "    return player_match_data, career_data, recent_data, venue_data\n",
    "\n",
    "def find_closest_match(player_match_data, player_id, date):\n",
    "    \"\"\"Find the closest match for the given player_id and date.\"\"\"\n",
    "    player_data = player_match_data[player_match_data['player_id'] == player_id]\n",
    "    player_data['date'] = pd.to_datetime(player_data['date'])\n",
    "    target_date = pd.to_datetime(date)\n",
    "    closest_match_idx = (player_data['date'] - target_date).abs().idxmin()\n",
    "    return player_data.loc[closest_match_idx]\n",
    "\n",
    "def find_match_data(tournament_type, date, venue, team_name, player_id):\n",
    "    \"\"\"Find and combine match data from multiple sources.\"\"\"\n",
    "    # Load data\n",
    "    player_match_data_df, career_odi_df, recent_odi_df, venue_odi_df = load_data()\n",
    "\n",
    "    # Find closest match\n",
    "    closest_match = find_closest_match(player_match_data_df, player_id, date)\n",
    "    match_id = closest_match['match_id']\n",
    "\n",
    "    # Check venue match\n",
    "    if closest_match['venue'] != venue:\n",
    "        return \"No matching venue found for the given date and player.\"\n",
    "\n",
    "    # Fetch corresponding tuples\n",
    "    career_tuple = career_odi_df[(career_odi_df['match_id'] == match_id) & (career_odi_df['player_id'] == player_id)].iloc[0]\n",
    "    recent_tuple = recent_odi_df[(recent_odi_df['match_id'] == match_id) & (recent_odi_df['player_id'] == player_id)].iloc[0]\n",
    "    venue_tuple = venue_odi_df[(venue_odi_df['match_id'] == match_id) & (venue_odi_df['player_id'] == player_id)].iloc[0]\n",
    "\n",
    "    # Combine the tuples\n",
    "    combined_result = pd.concat([career_tuple, recent_tuple[2:], venue_tuple[2:]])\n",
    "\n",
    "    # Return result as a tuple\n",
    "    return tuple(combined_result)\n",
    "\n",
    "# Input parameters\n",
    "tournament_type = \"ODI\"\n",
    "date = \"2024-07-07\"\n",
    "venue = \"Radlett Cricket Club, Radlett\"\n",
    "team_name = \"Sunrisers\"\n",
    "player_id = \"9d9edf14\"\n",
    "\n",
    "# Call the function and print the result\n",
    "result = find_match_data(tournament_type, date, venue, team_name, player_id)\n",
    "print(result)\n"
   ]
  }
 ],
 "metadata": {
  "kernelspec": {
   "display_name": "base",
   "language": "python",
   "name": "python3"
  },
  "language_info": {
   "codemirror_mode": {
    "name": "ipython",
    "version": 3
   },
   "file_extension": ".py",
   "mimetype": "text/x-python",
   "name": "python",
   "nbconvert_exporter": "python",
   "pygments_lexer": "ipython3",
   "version": "3.11.4"
  },
  "orig_nbformat": 4
 },
 "nbformat": 4,
 "nbformat_minor": 2
}
